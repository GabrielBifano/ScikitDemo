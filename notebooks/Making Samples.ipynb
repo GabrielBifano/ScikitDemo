{
  "cells": [
    {
      "cell_type": "markdown",
      "metadata": {
        "id": "nS-ZhtnHNVnJ"
      },
      "source": [
        "#**Scikit Demonstration**"
      ]
    },
    {
      "cell_type": "code",
      "execution_count": null,
      "metadata": {
        "id": "R2ifVZO7ZmJF"
      },
      "outputs": [],
      "source": [
        "import random\n",
        "import sklearn as sk\n",
        "import matplotlib.pyplot as plt\n",
        "\n",
        "from src.graphic import Graphic, Plot\n",
        "from src.generator import Generator"
      ]
    },
    {
      "cell_type": "markdown",
      "metadata": {
        "id": "vRxpdc5jyscI"
      },
      "source": [
        "## **Random Datasets Generation**"
      ]
    },
    {
      "cell_type": "code",
      "execution_count": 130,
      "metadata": {
        "id": "6ok-sAN4v6jq"
      },
      "outputs": [],
      "source": [
        "g = Graphic()\n",
        "\n",
        "samp = 300\n",
        "feat = 2\n",
        "clusters = 6\n",
        "noise = 0.05\n",
        "factor = 0.5\n",
        "\n",
        "rand = random.randint(0, 0xFFFFFFFF - 1)"
      ]
    },
    {
      "cell_type": "markdown",
      "metadata": {
        "id": "rnnnhZeOwimi"
      },
      "source": [
        "### **Blob**\n",
        "This cell generate random blobs, that are focal areas where samples group around. These are somewhat usually linear separable."
      ]
    },
    {
      "cell_type": "code",
      "execution_count": null,
      "metadata": {
        "id": "D_G0Wj_YMuul"
      },
      "outputs": [],
      "source": [
        "from sklearn.datasets import make_blobs\n",
        "\n",
        "X, y = make_blobs(n_samples=samp, n_features=feat, centers=clusters, random_state=rand)\n",
        "\n",
        "g.select(Plot.cluster).points_2D(X=X, y=y)\n",
        "g.select(Plot.indistinguishable).points_2D(X=X)"
      ]
    },
    {
      "cell_type": "markdown",
      "metadata": {
        "id": "J1lHFl8kw-my"
      },
      "source": [
        "### **Moons**\n",
        "This cell generate two randomized sample moons, that are moon shaped focal areas where samples group around. This distribution is poorly linear separable, and thus, very handy for testing classification models"
      ]
    },
    {
      "cell_type": "code",
      "execution_count": null,
      "metadata": {
        "id": "2iccy2jrw5Mr"
      },
      "outputs": [],
      "source": [
        "from sklearn.datasets import make_moons\n",
        "\n",
        "X, y = make_moons(n_samples=samp, noise=noise, random_state=rand)\n",
        "\n",
        "g.select(Plot.cluster).points_2D(X=X, y=y)\n",
        "g.select(Plot.indistinguishable).points_2D(X=X)"
      ]
    },
    {
      "cell_type": "markdown",
      "metadata": {
        "id": "XBam6MS5xu2E"
      },
      "source": [
        "### **Circles**\n",
        "This cell generate two randomized circles, one inside of the other, that are focal areas where samples group in ring shaped formation. This distribution is not linear separable, and thus, very handy for testing classification models"
      ]
    },
    {
      "cell_type": "code",
      "execution_count": null,
      "metadata": {
        "id": "JUQ7iqhoxrsl"
      },
      "outputs": [],
      "source": [
        "from sklearn.datasets import make_circles\n",
        "\n",
        "X, y = make_circles(n_samples=samp, factor=factor, noise=noise, random_state=rand)\n",
        "\n",
        "g.select(Plot.cluster).points_2D(X=X, y=y)\n",
        "g.select(Plot.indistinguishable).points_2D(X=X)"
      ]
    },
    {
      "cell_type": "markdown",
      "metadata": {
        "id": "p1Cn2j2RBi0-"
      },
      "source": [
        "### **S Curve**\n",
        "This cell generate a randomized S shaped curve where samples group around."
      ]
    },
    {
      "cell_type": "code",
      "execution_count": null,
      "metadata": {
        "id": "fZkBQy0B0HKu"
      },
      "outputs": [],
      "source": [
        "from sklearn.datasets import make_s_curve\n",
        "\n",
        "X, y = make_s_curve(n_samples=samp, noise=noise, random_state=rand)\n",
        "\n",
        "g.select(Plot.indistinguishable).points_2D(X=X[:,0], y=y)"
      ]
    }
  ],
  "metadata": {
    "colab": {
      "provenance": []
    },
    "kernelspec": {
      "display_name": "Python 3.8.10 64-bit",
      "language": "python",
      "name": "python3"
    },
    "language_info": {
      "name": "python",
      "version": "3.8.10"
    },
    "vscode": {
      "interpreter": {
        "hash": "916dbcbb3f70747c44a77c7bcd40155683ae19c65e1c03b4aa3499c5328201f1"
      }
    }
  },
  "nbformat": 4,
  "nbformat_minor": 0
}
