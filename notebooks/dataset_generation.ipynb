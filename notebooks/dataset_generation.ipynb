{
  "cells": [
    {
      "cell_type": "markdown",
      "metadata": {
        "id": "nS-ZhtnHNVnJ"
      },
      "source": [
        "#**Scikit Demonstration**"
      ]
    },
    {
      "cell_type": "code",
      "execution_count": null,
      "metadata": {
        "id": "R2ifVZO7ZmJF"
      },
      "outputs": [],
      "source": [
        "import sklearn as sk\n",
        "import matplotlib.pyplot as plt\n",
        "from enum import Enum\n",
        "import random"
      ]
    },
    {
      "cell_type": "markdown",
      "metadata": {
        "id": "2nAJcyGOfToO"
      },
      "source": [
        "## **Graphic Representations Handler**"
      ]
    },
    {
      "cell_type": "code",
      "execution_count": 72,
      "metadata": {
        "id": "WxVSA4ihmjXe"
      },
      "outputs": [],
      "source": [
        "class Plot(Enum):\n",
        "  default = 0\n",
        "  indistinguishable = 1\n",
        "  cluster = 3"
      ]
    },
    {
      "cell_type": "code",
      "execution_count": 129,
      "metadata": {
        "id": "TcOyA__UfTXj"
      },
      "outputs": [],
      "source": [
        "class Graphic:\n",
        "  def __init__(self):\n",
        "    self.__first_color      = \"blue\"\n",
        "    self.__second_color     = \"orange\"\n",
        "    self.__third_color      = \"purple\"\n",
        "    self.__default_color    = \"black\"\n",
        "    self.__divisory_color   = \"black\"\n",
        "    self.p_type = Plot.default\n",
        "    self.plot_type = {\n",
        "      Plot.default:             self.indistinguishable_clusters_2D,\n",
        "      Plot.indistinguishable:   self.indistinguishable_clusters_2D,\n",
        "      Plot.cluster:             self.distinguishable_clusters_2D,\n",
        "    }\n",
        "\n",
        "  def select(self, t: Plot) -> 'Graphic':\n",
        "    self.p_type = t\n",
        "    return self\n",
        "\n",
        "  def points_2D(self, **args) -> None:\n",
        "    if self.p_type in self.plot_type:\n",
        "      self.plot_type[self.p_type](**args)\n",
        "\n",
        "  def distinguishable_clusters_2D(self, **args) -> None:\n",
        "    X = args['X']\n",
        "    y = args['y']\n",
        "    plt.scatter(X[:, 0], X[:, 1], c=y, cmap='viridis', marker='.')\n",
        "    plt.title(\"Scatter Plot of the clusters in the Dataset\")\n",
        "    plt.xlabel(\"Feature 1\")\n",
        "    plt.ylabel(\"Feature 2\")\n",
        "    plt.show()\n",
        "\n",
        "  def indistinguishable_clusters_2D(self, **args) -> None:\n",
        "    X = args['X']\n",
        "    y = None\n",
        "    if len(X.shape) < 2:\n",
        "      y = args['y']\n",
        "    else:\n",
        "      y = args['X'][:, 1]\n",
        "      X = X[:,0]\n",
        "    plt.scatter(X, y, color = self.__default_color, marker='.')\n",
        "    plt.title(\"Scatter Plot of samples in the Dataset\")\n",
        "    plt.xlabel(\"Feature 1\")\n",
        "    plt.ylabel(\"Feature 2\")\n",
        "    plt.show()"
      ]
    },
    {
      "cell_type": "markdown",
      "metadata": {
        "id": "vRxpdc5jyscI"
      },
      "source": [
        "## **Random Datasets Generation**"
      ]
    },
    {
      "cell_type": "code",
      "execution_count": 130,
      "metadata": {
        "id": "6ok-sAN4v6jq"
      },
      "outputs": [],
      "source": [
        "g = Graphic()\n",
        "\n",
        "samp = 300\n",
        "feat = 2\n",
        "clusters = 6\n",
        "noise = 0.05\n",
        "factor = 0.5\n",
        "\n",
        "rand = random.randint(0, 0xFFFFFFFF - 1)"
      ]
    },
    {
      "cell_type": "markdown",
      "metadata": {
        "id": "rnnnhZeOwimi"
      },
      "source": [
        "### **Blob**\n",
        "This cell generate random blobs, that are focal areas where samples group around. These are somewhat usually linear separable."
      ]
    },
    {
      "cell_type": "code",
      "execution_count": null,
      "metadata": {
        "id": "D_G0Wj_YMuul"
      },
      "outputs": [],
      "source": [
        "from sklearn.datasets import make_blobs\n",
        "\n",
        "X, y = make_blobs(n_samples=samp, n_features=feat, centers=clusters, random_state=rand)\n",
        "\n",
        "g.select(Plot.cluster).points_2D(X=X, y=y)\n",
        "g.select(Plot.indistinguishable).points_2D(X=X)"
      ]
    },
    {
      "cell_type": "markdown",
      "metadata": {
        "id": "J1lHFl8kw-my"
      },
      "source": [
        "### **Moons**\n",
        "This cell generate two randomized sample moons, that are moon shaped focal areas where samples group around. This distribution is poorly linear separable, and thus, very handy for testing classification models"
      ]
    },
    {
      "cell_type": "code",
      "execution_count": null,
      "metadata": {
        "id": "2iccy2jrw5Mr"
      },
      "outputs": [],
      "source": [
        "from sklearn.datasets import make_moons\n",
        "\n",
        "X, y = make_moons(n_samples=samp, noise=noise, random_state=rand)\n",
        "\n",
        "g.select(Plot.cluster).points_2D(X=X, y=y)\n",
        "g.select(Plot.indistinguishable).points_2D(X=X)"
      ]
    },
    {
      "cell_type": "markdown",
      "metadata": {
        "id": "XBam6MS5xu2E"
      },
      "source": [
        "### **Circles**\n",
        "This cell generate two randomized circles, one inside of the other, that are focal areas where samples group in ring shaped formation. This distribution is not linear separable, and thus, very handy for testing classification models"
      ]
    },
    {
      "cell_type": "code",
      "execution_count": null,
      "metadata": {
        "id": "JUQ7iqhoxrsl"
      },
      "outputs": [],
      "source": [
        "from sklearn.datasets import make_circles\n",
        "\n",
        "X, y = make_circles(n_samples=samp, factor=factor, noise=noise, random_state=rand)\n",
        "\n",
        "g.select(Plot.cluster).points_2D(X=X, y=y)\n",
        "g.select(Plot.indistinguishable).points_2D(X=X)"
      ]
    },
    {
      "cell_type": "markdown",
      "metadata": {
        "id": "p1Cn2j2RBi0-"
      },
      "source": [
        "### **S Curve**\n",
        "This cell generate a randomized S shaped curve where samples group around."
      ]
    },
    {
      "cell_type": "code",
      "execution_count": null,
      "metadata": {
        "id": "fZkBQy0B0HKu"
      },
      "outputs": [],
      "source": [
        "from sklearn.datasets import make_s_curve\n",
        "\n",
        "X, y = make_s_curve(n_samples=samp, noise=noise, random_state=rand)\n",
        "\n",
        "g.select(Plot.indistinguishable).points_2D(X=X[:,0], y=y)"
      ]
    }
  ],
  "metadata": {
    "colab": {
      "provenance": []
    },
    "kernelspec": {
      "display_name": "Python 3.8.10 64-bit",
      "language": "python",
      "name": "python3"
    },
    "language_info": {
      "name": "python",
      "version": "3.8.10"
    },
    "vscode": {
      "interpreter": {
        "hash": "916dbcbb3f70747c44a77c7bcd40155683ae19c65e1c03b4aa3499c5328201f1"
      }
    }
  },
  "nbformat": 4,
  "nbformat_minor": 0
}
