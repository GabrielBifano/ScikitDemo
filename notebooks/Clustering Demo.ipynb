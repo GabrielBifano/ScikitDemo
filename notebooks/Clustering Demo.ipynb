{
 "cells": [
  {
   "cell_type": "markdown",
   "metadata": {},
   "source": [
    "# **Clustering Algorithms Demonstration**\n",
    "\n",
    "Clustering is a fundamental technique in machine learning and data analysis that involves grouping similar data points together based on intrinsic patterns or features, without prior knowledge of specific categories. By identifying inherent structures within datasets, clustering algorithms reveal meaningful relationships and dependencies, providing valuable insights into the underlying organization of the data. Unlike supervised learning methods, clustering operates in an unsupervised manner, making it particularly useful for exploring datasets where the labels or groupings are unknown. Common applications of clustering span a wide range of domains, from customer segmentation in marketing to image segmentation in computer vision, showcasing its versatility in uncovering hidden structures within diverse datasets. As a key component of unsupervised learning, clustering plays a pivotal role in organizing and simplifying complex datasets, aiding researchers and analysts in making sense of intricate patterns and relationships.\n",
    "\n",
    "In this notebook all 10 scikit-learn clustering methods ( available right [here](https://scikit-learn.org/stable/modules/classes.html) ) will be explained and applied over this exercise [dataset](https://www.kaggle.com/datasets/joonasyoon/clustering-exercises?select=basic3.csv)."
   ]
  },
  {
   "cell_type": "markdown",
   "metadata": {},
   "source": [
    "## Loading Dataset"
   ]
  },
  {
   "cell_type": "markdown",
   "metadata": {},
   "source": [
    "### Libraries used"
   ]
  },
  {
   "cell_type": "code",
   "execution_count": 8,
   "metadata": {},
   "outputs": [
    {
     "ename": "ImportError",
     "evalue": "attempted relative import with no known parent package",
     "output_type": "error",
     "traceback": [
      "\u001b[0;31m---------------------------------------------------------------------------\u001b[0m",
      "\u001b[0;31mImportError\u001b[0m                               Traceback (most recent call last)",
      "Cell \u001b[0;32mIn[8], line 2\u001b[0m\n\u001b[1;32m      1\u001b[0m \u001b[39mimport\u001b[39;00m \u001b[39mpandas\u001b[39;00m \u001b[39mas\u001b[39;00m \u001b[39mpd\u001b[39;00m\n\u001b[0;32m----> 2\u001b[0m \u001b[39mfrom\u001b[39;00m \u001b[39m.\u001b[39;00m\u001b[39m.\u001b[39;00m\u001b[39msrc\u001b[39;00m\u001b[39m.\u001b[39;00m\u001b[39mgraphic\u001b[39;00m \u001b[39mimport\u001b[39;00m Graphic\n",
      "\u001b[0;31mImportError\u001b[0m: attempted relative import with no known parent package"
     ]
    }
   ],
   "source": [
    "import pandas as pd\n",
    "from graphic import Graphic"
   ]
  },
  {
   "cell_type": "markdown",
   "metadata": {},
   "source": [
    "### Loading"
   ]
  },
  {
   "cell_type": "code",
   "execution_count": 2,
   "metadata": {},
   "outputs": [],
   "source": [
    "base_path = '../dataset/'\n",
    "\n",
    "files = [\n",
    "    'basic1', 'basic2', 'basic3', 'basic4', 'basic5', 'blob',\n",
    "    'box', 'boxes', 'boxes2', 'boxes3', 'chrome', 'dart',\n",
    "    'dart2', 'face', 'hyperplane', 'isolation', 'lines', 'lines2',\n",
    "    'network', 'outliers', 'ring', 'sparse', 'spiral', 'spiral2',\n",
    "    'spirals', 'supernova', 'triangle', 'un', 'un2', 'wave',        \n",
    "]\n",
    "\n",
    "dataframes = {}\n",
    "for file in files:\n",
    "    dataframes[file] = pd.read_csv(base_path + file + '.csv')"
   ]
  },
  {
   "cell_type": "markdown",
   "metadata": {},
   "source": [
    "## Visualizing Data"
   ]
  },
  {
   "cell_type": "code",
   "execution_count": 5,
   "metadata": {},
   "outputs": [
    {
     "ename": "NameError",
     "evalue": "name 'Graphic' is not defined",
     "output_type": "error",
     "traceback": [
      "\u001b[0;31m---------------------------------------------------------------------------\u001b[0m",
      "\u001b[0;31mNameError\u001b[0m                                 Traceback (most recent call last)",
      "Cell \u001b[0;32mIn[5], line 1\u001b[0m\n\u001b[0;32m----> 1\u001b[0m g \u001b[39m=\u001b[39m Graphic()\n\u001b[1;32m      2\u001b[0m dataframes[\u001b[39m'\u001b[39m\u001b[39mbasic1\u001b[39m\u001b[39m'\u001b[39m]\n\u001b[1;32m      3\u001b[0m g\u001b[39m.\u001b[39msample(dataframes[\u001b[39m'\u001b[39m\u001b[39mbasic1\u001b[39m\u001b[39m'\u001b[39m][:,:,\u001b[39m0\u001b[39m], dataframes[\u001b[39m'\u001b[39m\u001b[39mbasic1\u001b[39m\u001b[39m'\u001b[39m][\u001b[39m'\u001b[39m\u001b[39mcolor\u001b[39m\u001b[39m'\u001b[39m])\n",
      "\u001b[0;31mNameError\u001b[0m: name 'Graphic' is not defined"
     ]
    }
   ],
   "source": [
    "g = Graphic()\n",
    "basic1 = dataframes['basic1']\n",
    "g.sample(X=basic1, y=basic1['color'])"
   ]
  },
  {
   "cell_type": "markdown",
   "metadata": {},
   "source": [
    "## K-Means"
   ]
  },
  {
   "cell_type": "markdown",
   "metadata": {},
   "source": [
    "### _Bisecting K-Means_"
   ]
  },
  {
   "cell_type": "markdown",
   "metadata": {},
   "source": [
    "### _Mini Batch K-Means_"
   ]
  },
  {
   "cell_type": "markdown",
   "metadata": {},
   "source": [
    "## DBSCAN"
   ]
  },
  {
   "cell_type": "markdown",
   "metadata": {},
   "source": [
    "## HDBSCAN"
   ]
  },
  {
   "cell_type": "markdown",
   "metadata": {},
   "source": [
    "## Affinity Propagation"
   ]
  },
  {
   "cell_type": "markdown",
   "metadata": {},
   "source": [
    "## Agglomerative Clustering"
   ]
  },
  {
   "cell_type": "markdown",
   "metadata": {},
   "source": [
    "## Feature Agglomeration"
   ]
  },
  {
   "cell_type": "markdown",
   "metadata": {},
   "source": [
    "## Birch"
   ]
  },
  {
   "cell_type": "markdown",
   "metadata": {},
   "source": [
    "## Mean Shift"
   ]
  },
  {
   "cell_type": "markdown",
   "metadata": {},
   "source": [
    "## OPTICS"
   ]
  },
  {
   "cell_type": "markdown",
   "metadata": {},
   "source": [
    "## Spectral Clustering"
   ]
  },
  {
   "cell_type": "markdown",
   "metadata": {},
   "source": [
    "### _Spectral Biclustering_"
   ]
  },
  {
   "cell_type": "markdown",
   "metadata": {},
   "source": [
    "### _Spectral Coclustering_"
   ]
  }
 ],
 "metadata": {
  "kernelspec": {
   "display_name": "Python 3.11.0 ('venv': venv)",
   "language": "python",
   "name": "python3"
  },
  "language_info": {
   "codemirror_mode": {
    "name": "ipython",
    "version": 3
   },
   "file_extension": ".py",
   "mimetype": "text/x-python",
   "name": "python",
   "nbconvert_exporter": "python",
   "pygments_lexer": "ipython3",
   "version": "3.11.0"
  },
  "orig_nbformat": 4,
  "vscode": {
   "interpreter": {
    "hash": "13dbb93a8dbbf337a1a770cf34d9cb30fa214c4eaed2e8a070e52314475c5fe1"
   }
  }
 },
 "nbformat": 4,
 "nbformat_minor": 2
}
